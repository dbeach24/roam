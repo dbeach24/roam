{
 "cells": [
  {
   "cell_type": "markdown",
   "metadata": {
    "slideshow": {
     "slide_type": "slide"
    }
   },
   "source": [
    "# Blending\n",
    "\n",
    "## Or, What do we think we want, anyway?\n",
    "\n",
    "## Here's one idea...\n",
    "\n"
   ]
  },
  {
   "cell_type": "markdown",
   "metadata": {
    "slideshow": {
     "slide_type": "slide"
    }
   },
   "source": [
    "# Body Types\n",
    "\n",
    "Suppose we have a simple map of body types, that looks something like this:\n",
    "\n",
    "![alt text](files/images/CarTypes.png)"
   ]
  },
  {
   "cell_type": "markdown",
   "metadata": {
    "slideshow": {
     "slide_type": "slide"
    }
   },
   "source": [
    "# Engine Types\n",
    "\n",
    "And let's similarly suppose we have a map of engine types, based on number of cylinders:\n",
    "\n",
    "![alt text](files/images/Engines.png)"
   ]
  },
  {
   "cell_type": "markdown",
   "metadata": {
    "slideshow": {
     "slide_type": "slide"
    }
   },
   "source": [
    "# Blended Map\n",
    "\n",
    "If we create a blended map with coarse structure based on Body Type, and fine structure based on Engine Type, we might imagine arriving at something like this:\n",
    "\n",
    "![alt text](files/images/Blended.png)"
   ]
  },
  {
   "cell_type": "markdown",
   "metadata": {},
   "source": [
    "# Distance Function\n",
    "\n",
    "Here, we want to assign large distances for different, body types, and smaller distances for different enging types.\n",
    "\n",
    "\n",
    "## Desired map distance based on engine/body similarity\n",
    "\n",
    "|                | Eng. Same       | Eng. Different |\n",
    "| -------------- | --------------- | -------------- |\n",
    "| Body Same      | small           | medium         |\n",
    "| Body Different | large           | large          |\n",
    "\n",
    "\n",
    "This suggests a distance function with a large weight on body differences and a smaller (but not too small) weight on engine differences.\n",
    "\n",
    "\n"
   ]
  },
  {
   "cell_type": "code",
   "execution_count": null,
   "metadata": {},
   "outputs": [],
   "source": []
  }
 ],
 "metadata": {
  "celltoolbar": "Slideshow",
  "kernelspec": {
   "display_name": "Python 3",
   "language": "python",
   "name": "python3"
  },
  "language_info": {
   "codemirror_mode": {
    "name": "ipython",
    "version": 3
   },
   "file_extension": ".py",
   "mimetype": "text/x-python",
   "name": "python",
   "nbconvert_exporter": "python",
   "pygments_lexer": "ipython3",
   "version": "3.6.1"
  }
 },
 "nbformat": 4,
 "nbformat_minor": 2
}
